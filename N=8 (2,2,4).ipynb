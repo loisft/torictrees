{
 "cells": [
  {
   "cell_type": "markdown",
   "metadata": {},
   "source": [
    "# Examples  N = 8 (2,2,4) n=8"
   ]
  },
  {
   "cell_type": "markdown",
   "metadata": {},
   "source": [
    "$ D_{N_1,N_2,N3} \\in \\mathcal E_N $"
   ]
  },
  {
   "cell_type": "code",
   "execution_count": 1,
   "metadata": {},
   "outputs": [
    {
     "name": "stdout",
     "output_type": "stream",
     "text": [
      "8\n"
     ]
    }
   ],
   "source": [
    "N=8\n",
    "N1=2\n",
    "N2=2\n",
    "N3=4\n",
    "nD=2*N/gcd(gcd(N1+N2,N2+N3),N1+N3)\n",
    "print(nD)\n",
    "n=nD\n",
    "\n"
   ]
  },
  {
   "cell_type": "code",
   "execution_count": 2,
   "metadata": {},
   "outputs": [],
   "source": [
    "Gamma1E=Gamma1(n).to_even_subgroup() #Even group containing Gamma1(N), e.g Gamma1[N]\n",
    "#FareySymbol(Gamma1E).fundamental_domain(show_pairing=true)"
   ]
  },
  {
   "cell_type": "markdown",
   "metadata": {},
   "source": [
    "$r$ is the weight of Theta. If $n>4$ then $12 | r $ and $\\Theta_n / \\Delta^{r/12}$ is a modular function, regular on $\\mathbb H$ and with a pole of order $d=r/12$ at $i\\infty$ if $N$ is even and $d=r/12-1/2 \\phi ( n/2)$ if $n$ is odd. \n",
    "One have then \n",
    "$$\n",
    "\\Theta_n / \\Delta^{r/12} = P_n ( J ( \\tau ) ) \\in \\mathbb C [J]\n",
    "$$"
   ]
  },
  {
   "cell_type": "code",
   "execution_count": 3,
   "metadata": {},
   "outputs": [
    {
     "name": "stdout",
     "output_type": "stream",
     "text": [
      "\n",
      "----------------\n",
      "\n",
      "Gamma1_gens\n",
      "([1 1]\n",
      "[0 1], [-7  1]\n",
      "[-8  1], [17 -5]\n",
      "[24 -7], [ 25  -9]\n",
      "[ 64 -23], [ 9 -4]\n",
      "[16 -7])\n",
      " \n",
      "Gamma1E_gens\n",
      "([1 1]\n",
      "[0 1], [ 7 -1]\n",
      "[ 8 -1], [17 -5]\n",
      "[24 -7], [ 25  -9]\n",
      "[ 64 -23], [ 9 -4]\n",
      "[16 -7], [-1  0]\n",
      "[ 0 -1])\n",
      "\n",
      "----------------\n",
      "\n",
      "Action of U : [0, 1, 4, 5, 6, 7, 8, 9, 10, 11, 12, 13, 14, 15, 16, 17, 2, 3, 20, 21, 19, 18, 23, 22]\n",
      "\n",
      "----------------\n",
      "\n",
      "[1 1]\n",
      "[0 1]\n",
      "0\n",
      "\n",
      "Psi_8 is trivial\n",
      "Theta is a modular form of weight 24\n",
      "degree(P_n) = 1\n"
     ]
    }
   ],
   "source": [
    "L0 = list(Gamma1E.coset_reps()) # List of coset representatives of Gamma1[N] in SL2Z\n",
    "\n",
    "\n",
    "r=len(L0) # Weight of Theta . If N>4 then 12 | r and Theta_N / Delta^r/12 is a modular function\n",
    "\n",
    "\n",
    "print('\\n----------------\\n')\n",
    "\n",
    "Gamma1_gens = Gamma1(n).gens() # Generators of Gamma_1(n)\n",
    "Gamma1E_gens = Gamma1E.gens()\n",
    "\n",
    "print('Gamma1_gens')\n",
    "print(Gamma1_gens)\n",
    "print(' ')\n",
    "\n",
    "print('Gamma1E_gens')\n",
    "print(Gamma1E_gens)\n",
    "\n",
    "print('\\n----------------\\n')\n",
    "\n",
    "Sigma=[]\n",
    "for i in range(len(L0)):\n",
    "    j=0\n",
    "    while(not(Gamma1E_gens[len(Gamma1E_gens)-1]*L0[i]*matrix(2,2,[1,1,0,1])*~L0[j]) in Gamma1E):\n",
    "        j+=1\n",
    "    Sigma.append(j)\n",
    "  #  print(Gamma1E_gens[len(Gamma1E_gens)-1]*L0[i]*matrix(2,2,[1,1,0,1])*~L0[j])\n",
    "   # print(' ')\n",
    "print('Action of U : ' +str(Sigma))\n",
    "\n",
    "print('\\n----------------\\n')\n",
    "\n",
    "print(matrix([[1, 1] ,[0 , 1]]))\n",
    "psi=0\n",
    "\n",
    "for i in range(len(L0)):\n",
    "   # print('sigma('+str(i)+')='+str(Sigma[i]))\n",
    "   # print(L0[i])\n",
    "   # print(L0[Sigma[i]])\n",
    "   # print(L0[i]*matrix([[1, 1] ,[0 , 1]]))\n",
    "   # print('M_'+str(i)+' U M_s('+str(i)+')=')\n",
    "   # print(L0[i]*matrix([[1, 1] ,[0 , 1]])*~L0[Sigma[i]])\n",
    "    bool1=True\n",
    "    for Test in Gamma1_gens:\n",
    "        if not(Test*L0[i]*matrix([[1, 1] ,[0 , 1]])*~L0[Sigma[i]] in Gamma1(n)):\n",
    "            bool1=False\n",
    "            #print(matrix(2,2,Test)*L0[i]*matrix([[1, 1] ,[0 , 1]])*~L0[Sigma[i]] in Gamma1(n))\n",
    "            #print(-matrix(2,2,Test)*L0[i]*matrix([[1, 1] ,[0 , 1]])*~L0[Sigma[i]] in Gamma1(n))\n",
    "            #print(' ')\n",
    "    #print(' ')\n",
    "    #print(bool1)\n",
    "    #print(' ')\n",
    "    psi = psi + 1 if bool1 else psi \n",
    "   \n",
    "psi=psi%2\n",
    "print(psi)\n",
    "\n",
    "result='Psi_'+str(n)+' is trivial' if psi==0 else '\\Psi_'+str(n)+'  is not trivial'\n",
    "\n",
    "theta_state = 'Theta is a modular form of weight '+ str(r) if psi==0 else 'Theta is not a modular form, but Theta^2 is.'\n",
    "\n",
    "print('\\n'+result+'\\n'+theta_state)\n",
    "\n",
    "degree_P = r/12 if n%2==1 else r/12 - (1/2)*(n/2)*prod([1 - 1/p for p in prime_divisors(n/2)])\n",
    "\n",
    "print('degree(P_n) = '+str(degree_P))\n",
    "    "
   ]
  },
  {
   "cell_type": "markdown",
   "metadata": {},
   "source": [
    "$$ SL_2 = \\bigcup_i \\Gamma_1 [ N ] M_i = \\bigcup_i ( \\Gamma_1 (N) M_i \\cup - \\Gamma_1 (N) M_i ) $$ \n",
    "$$ \\Gamma_1 ( N ) M_i M = \\chi_i ( M  ) \\Gamma_1 ( N ) M_{\\sigma_M (i )}  $$\n",
    "$$ \\Psi_N : M \\in  SL_2 (\\mathbb Z )  \\longmapsto \\prod_i \\chi_i ( M ) \\in \\mathbb Z / 2 \\mathbb Z $$\n",
    "\n",
    "Is $\\Psi_N$ trivial ? \n",
    "For each $i$ you have to know if $ \\Gamma_1(N)  M_iU =  \\Gamma_1(N)M_{\\sigma_U (i )} $ or $\\Gamma_1(N) M_iU = -\\Gamma_1(N)M_{\\sigma_U (i )} $ so it is enough to reduce $M_iU$ modulo $\\Gamma_1(N)M_{\\sigma_U (i )}$.\n",
    "$$ \\chi_i ( M ) = M_i M  M_{\\sigma_U (i )}  ^{-1} \\text{ mod } \\Gamma_1(N) $$"
   ]
  },
  {
   "cell_type": "markdown",
   "metadata": {},
   "source": [
    "If $\\Psi_N$ is trivial, then there exists a constant $c_N$ such that the coefficients of $c_N \\Theta_N$ are rationnal numbers. "
   ]
  },
  {
   "cell_type": "markdown",
   "metadata": {},
   "source": [
    "$$ \n",
    "F_{a,b} = \\frac{1}{i\\pi} \\left ( n \\zeta ( a/n + \\tau b/n) - 2 a \\zeta ( 1/2 ) - 2 b \\zeta ( \\tau / 2 ) \\right )\n",
    "$$\n",
    "\n",
    "$$\n",
    "F_m   = F_{0,m} = \\frac{1}{i\\pi} \\left ( n \\zeta (\\tau m/n) - 2 m \\zeta ( \\tau / 2 ) \\right )\n",
    "$$\n",
    "\n",
    "$$ \n",
    "\\zeta ( z ) = \\frac{\\sigma ' ( z) }{\\sigma ( z ) }\n",
    "$$\n",
    "\n",
    "$$\n",
    "\\Theta_N ( \\tau ) = \\prod_i F_1 ( \\tau )_{|[M_i]_1} \n",
    "$$"
   ]
  },
  {
   "cell_type": "markdown",
   "metadata": {},
   "source": [
    "Developpement in Puiseux serie :\n",
    "$$\n",
    "F_m ( \\tau ) = -i n \\sum_{k\\geq 0} c_k q^k\n",
    "$$\n",
    "$$\n",
    "c_0 = \\mathrm{cotg}(\\pi m / n ) \\qquad c_k = 4 \\sum_{d|k} \\sin ( 2 \\pi md / n )\n",
    "$$"
   ]
  },
  {
   "cell_type": "markdown",
   "metadata": {},
   "source": [
    "$$ {F_1}_{|[M]_1} = F_{D,C} $$"
   ]
  },
  {
   "cell_type": "markdown",
   "metadata": {},
   "source": [
    "We have a expresion in Pusieux series for $F_{a,b}$\n",
    "$$\n",
    "F_{a,b}(p=q^{1/n})=\n",
    "n\\frac{\\alpha p^b +1}{\\alpha p^b -1 } - 2n \\sum_{m>0} \\frac{\\alpha p^{mn+b}}{1 - \\alpha p^{mn+b}} + 2 n \\sum_{m>0} \\frac{ \\alpha^{-1} p^{mn-b} }{1 - \\alpha ^{-1} p^{mn-b}} + 2 b \n",
    "$$\n",
    "that we will troncate to compute the $J$ invariant for $a,b$.  "
   ]
  },
  {
   "cell_type": "markdown",
   "metadata": {},
   "source": [
    "If \n",
    "$$ M = \\left ( \\begin{matrix} A & B \\\\ C & D \\end{matrix} \\right)\n",
    "$$\n",
    "then \n",
    "$$\n",
    "{F_1}_{|[M]_1} = F_{D,C} \n",
    "$$"
   ]
  },
  {
   "cell_type": "code",
   "execution_count": 4,
   "metadata": {},
   "outputs": [
    {
     "name": "stdout",
     "output_type": "stream",
     "text": [
      "Order = 24\n"
     ]
    }
   ],
   "source": [
    "F=[]\n",
    "\n",
    "order = r \n",
    "\n",
    "print('Order = '+str(order))\n",
    "\n",
    "K.<z> = CyclotomicField(n)\n",
    "R.<p> = PowerSeriesRing(K,default_prec=order)\n",
    "\n",
    "\n"
   ]
  },
  {
   "cell_type": "code",
   "execution_count": 5,
   "metadata": {},
   "outputs": [
    {
     "name": "stdout",
     "output_type": "stream",
     "text": [
      "F_1,0 =-8*z^3 - 8*z^2 - 8*z + (-16*z^3 - 16*z)*p^8 + (-16*z^3 - 32*z^2 - 16*z)*p^16 + (-32*z^3 - 32*z)*p^24 + O(p^32)\n",
      " \n",
      "F_11,8 =-8*z^3 + 8*z^2 - 8*z + (-16*z^3 - 16*z)*p^8 + (-16*z^3 + 32*z^2 - 16*z)*p^16 + O(p^24)\n",
      " \n",
      "F_0,1 =-6 - 16*p - 16*p^2 - 16*p^3 - 16*p^4 - 16*p^5 - 16*p^6 - 16*p^8 - 32*p^9 - 16*p^10 - 16*p^11 - 16*p^12 - 16*p^13 - 16*p^16 - 32*p^17 - 32*p^18 - 16*p^19 - 16*p^20 - 16*p^22 + O(p^24)\n",
      " \n",
      "F_-8,11 =-2 - 16*p^3 + 16*p^5 - 16*p^6 - 16*p^9 + 16*p^10 - 16*p^11 - 16*p^12 + 16*p^13 - 16*p^18 - 16*p^19 + 16*p^20 - 16*p^22 + O(p^24)\n",
      " \n",
      "F_1,1 =-6 - 16*z*p - 16*z^2*p^2 - 16*z^3*p^3 + 16*p^4 + 16*z*p^5 + 16*z^2*p^6 - 16*p^8 - 32*z*p^9 - 16*z^2*p^10 - 16*z^3*p^11 + 16*p^12 + 16*z*p^13 - 16*p^16 - 32*z*p^17 - 32*z^2*p^18 - 16*z^3*p^19 + 16*p^20 + 16*z^2*p^22 + O(p^24)\n",
      " \n",
      "F_11,19 =-2 - 16*z^3*p^3 - 16*z*p^5 + 16*z^2*p^6 - 16*z*p^9 + 16*z^2*p^10 - 16*z^3*p^11 + 16*p^12 - 16*z*p^13 - 16*z^2*p^18 - 16*z^3*p^19 - 16*p^20 + 16*z^2*p^22 + O(p^24)\n",
      " \n",
      "F_2,1 =-6 - 16*z^2*p + 16*p^2 + 16*z^2*p^3 - 16*p^4 - 16*z^2*p^5 + 16*p^6 - 16*p^8 - 32*z^2*p^9 + 16*p^10 + 16*z^2*p^11 - 16*p^12 - 16*z^2*p^13 - 16*p^16 - 32*z^2*p^17 + 32*p^18 + 16*z^2*p^19 - 16*p^20 + 16*p^22 + O(p^24)\n",
      " \n",
      "F_14,11 =-2 + 16*z^2*p^3 + 16*z^2*p^5 + 16*p^6 - 16*z^2*p^9 - 16*p^10 + 16*z^2*p^11 - 16*p^12 + 16*z^2*p^13 + 16*p^18 + 16*z^2*p^19 + 16*p^20 + 16*p^22 + O(p^24)\n",
      " \n",
      "F_3,1 =-6 - 16*z^3*p + 16*z^2*p^2 - 16*z*p^3 + 16*p^4 + 16*z^3*p^5 - 16*z^2*p^6 - 16*p^8 - 32*z^3*p^9 + 16*z^2*p^10 - 16*z*p^11 + 16*p^12 + 16*z^3*p^13 - 16*p^16 - 32*z^3*p^17 + 32*z^2*p^18 - 16*z*p^19 + 16*p^20 - 16*z^2*p^22 + O(p^24)\n",
      " \n",
      "F_25,11 =-2 - 16*z*p^3 - 16*z^3*p^5 - 16*z^2*p^6 - 16*z^3*p^9 - 16*z^2*p^10 - 16*z*p^11 + 16*p^12 - 16*z^3*p^13 + 16*z^2*p^18 - 16*z*p^19 - 16*p^20 - 16*z^2*p^22 + O(p^24)\n",
      " \n",
      "F_4,1 =-6 + 16*p - 16*p^2 + 16*p^3 - 16*p^4 + 16*p^5 - 16*p^6 - 16*p^8 + 32*p^9 - 16*p^10 + 16*p^11 - 16*p^12 + 16*p^13 - 16*p^16 + 32*p^17 - 32*p^18 + 16*p^19 - 16*p^20 - 16*p^22 + O(p^24)\n",
      " \n",
      "F_36,11 =-2 + 16*p^3 - 16*p^5 - 16*p^6 + 16*p^9 + 16*p^10 + 16*p^11 - 16*p^12 - 16*p^13 - 16*p^18 + 16*p^19 + 16*p^20 - 16*p^22 + O(p^24)\n",
      " \n",
      "F_5,1 =-6 + 16*z*p - 16*z^2*p^2 + 16*z^3*p^3 + 16*p^4 - 16*z*p^5 + 16*z^2*p^6 - 16*p^8 + 32*z*p^9 - 16*z^2*p^10 + 16*z^3*p^11 + 16*p^12 - 16*z*p^13 - 16*p^16 + 32*z*p^17 - 32*z^2*p^18 + 16*z^3*p^19 + 16*p^20 + 16*z^2*p^22 + O(p^24)\n",
      " \n",
      "F_47,11 =-2 + 16*z^3*p^3 + 16*z*p^5 + 16*z^2*p^6 + 16*z*p^9 + 16*z^2*p^10 + 16*z^3*p^11 + 16*p^12 + 16*z*p^13 - 16*z^2*p^18 + 16*z^3*p^19 - 16*p^20 + 16*z^2*p^22 + O(p^24)\n",
      " \n",
      "F_6,1 =-6 + 16*z^2*p + 16*p^2 - 16*z^2*p^3 - 16*p^4 + 16*z^2*p^5 + 16*p^6 - 16*p^8 + 32*z^2*p^9 + 16*p^10 - 16*z^2*p^11 - 16*p^12 + 16*z^2*p^13 - 16*p^16 + 32*z^2*p^17 + 32*p^18 - 16*z^2*p^19 - 16*p^20 + 16*p^22 + O(p^24)\n",
      " \n",
      "F_58,11 =-2 - 16*z^2*p^3 - 16*z^2*p^5 + 16*p^6 + 16*z^2*p^9 - 16*p^10 - 16*z^2*p^11 - 16*p^12 - 16*z^2*p^13 + 16*p^18 - 16*z^2*p^19 + 16*p^20 + 16*p^22 + O(p^24)\n",
      " \n",
      "F_7,1 =-6 + 16*z^3*p + 16*z^2*p^2 + 16*z*p^3 + 16*p^4 - 16*z^3*p^5 - 16*z^2*p^6 - 16*p^8 + 32*z^3*p^9 + 16*z^2*p^10 + 16*z*p^11 + 16*p^12 - 16*z^3*p^13 - 16*p^16 + 32*z^3*p^17 + 32*z^2*p^18 + 16*z*p^19 + 16*p^20 - 16*z^2*p^22 + O(p^24)\n",
      " \n",
      "F_69,11 =-2 + 16*z*p^3 + 16*z^3*p^5 - 16*z^2*p^6 + 16*z^3*p^9 - 16*z^2*p^10 + 16*z*p^11 + 16*p^12 + 16*z^3*p^13 + 16*z^2*p^18 + 16*z*p^19 - 16*p^20 - 16*z^2*p^22 + O(p^24)\n",
      " \n",
      "F_1,2 =-4 - 16*z*p^2 - 16*z^2*p^4 - 32*z^3*p^6 + 16*p^8 - 16*p^16 - 48*z*p^18 - 32*z^2*p^20 - 32*z^3*p^22 + O(p^24)\n",
      " \n",
      "F_11,30 =4 - 16*z*p^2 + 16*z^2*p^4 - 32*z^3*p^6 - 16*p^8 + 16*p^16 - 48*z*p^18 + 32*z^2*p^20 - 32*z^3*p^22 + O(p^24)\n",
      " \n",
      "F_3,2 =-4 - 16*z^3*p^2 + 16*z^2*p^4 - 32*z*p^6 + 16*p^8 - 16*p^16 - 48*z^3*p^18 + 32*z^2*p^20 - 32*z*p^22 + O(p^24)\n",
      " \n",
      "F_41,30 =4 - 16*z^3*p^2 - 16*z^2*p^4 - 32*z*p^6 - 16*p^8 + 16*p^16 - 48*z^3*p^18 - 32*z^2*p^20 - 32*z*p^22 + O(p^24)\n",
      " \n",
      "F_1,4 =(-16*z^3 - 16*z)*p^4 - 32*z^2*p^8 + (-32*z^3 - 32*z)*p^12 + O(p^24)\n",
      " \n",
      "F_11,52 =(-16*z^3 - 16*z)*p^4 + 32*z^2*p^8 + (-32*z^3 - 32*z)*p^12 + O(p^24)\n",
      " \n"
     ]
    }
   ],
   "source": [
    "for i in range(len(L0)):\n",
    "    a,b=L0[i][1,1],L0[i][1,0] #It is a trap !\n",
    "    alpha = z^a  # exp(2*pi*I*a/n)\n",
    "    Fab = n * ((alpha*(p^b) +1 )/(alpha*(p^b) - 1))\n",
    "    M = 2*abs(b)+order # Troncation \n",
    "    Fab +=  - 2 * n * sum([alpha* ((p^(m*n+b)) / ( 1 - alpha* (p^(m*n+b)))) for m in range(1,M)]) + 2 * n *  sum([alpha^(-1)*((p^(m*n-b)) / ( 1 - alpha^(-1) *(p^(m*n-b)))) for m in range(1,M)])  \n",
    "    Fab+= 2 * b \n",
    "    print('F'+'_'+str(a)+','+str(b)+' ='+str(Fab))\n",
    "    print(' ')\n",
    "    F.append(Fab)"
   ]
  },
  {
   "cell_type": "code",
   "execution_count": 6,
   "metadata": {},
   "outputs": [
    {
     "name": "stdout",
     "output_type": "stream",
     "text": [
      "Theta_n(p) = \n",
      "3606947894919168*p^8 + 2396281139133153280*p^16 + 590713930441493053440*p^24 + O(p^28)\n"
     ]
    }
   ],
   "source": [
    "Theta = prod(F)\n",
    "\n",
    "print('Theta_n(p) = ')\n",
    "print(Theta)\n",
    "#print('Theta(0)='+str(Theta(0).real())+'+'+str(Theta(0).imag())+'i')\n",
    "\n"
   ]
  },
  {
   "cell_type": "markdown",
   "metadata": {},
   "source": [
    "Recall that\n",
    "$$\n",
    "J=1728g_2^3/\\Delta\n",
    "$$\n",
    "and\n",
    "$$\n",
    "\\Delta = g_2^3 - 27g_3^2 \n",
    "$$\n",
    "We will use the $q$-expansion formulas \n",
    "$$\n",
    "G_4(\\tau ) = \\frac{\\pi ^4 }{45} \\left ( 1 + 240 \\sum_{n'>0} \\sigma_3(n')q^{n'} \\right )\n",
    "$$\n",
    "$$\n",
    "G_6(\\tau) = \\frac{2\\pi^6}{945} \\left ( 1 - 504 \\sum_{n'>0} \\sigma_5(n')q^{n'} \\right )\n",
    "$$\n",
    "where \n",
    "$$ g_2 = 60 G_4 \\qquad g_3 = 140G_6 $$"
   ]
  },
  {
   "cell_type": "markdown",
   "metadata": {},
   "source": [
    "In the case $N=4$, $n_D=8$, we have \n",
    "$$ \n",
    "\\Delta^2 J = 1728g_2^3 ( g_2^3-27g_3^2)\n",
    "$$"
   ]
  },
  {
   "cell_type": "code",
   "execution_count": 7,
   "metadata": {},
   "outputs": [],
   "source": [
    "orderq=int(order/n+1)\n",
    "\n",
    "#L.<a,J0,J1> = PowerSeriesRing(K)\n",
    "var('J0')\n",
    "#L.inject_variables()\n",
    "\n",
    "Rq.<q> = PowerSeriesRing(SR,default_prec=orderq)\n",
    "\n",
    "#G4_ = G4 / pi^4\n",
    "G4_=1/45*(1+240*sum([ sum([d^3 for d in divisors(m)])*q^(m) for m in range(1,2*orderq) ])) \n",
    "\n",
    "g2_=60*G4_\n",
    "\n",
    "#G6_ = G6 / pi ^6 \n",
    "G6_=2/945*(1-504*sum([ sum([d^5 for d in divisors(m)])*q^(m) for m in range(1,2*orderq) ]))\n",
    "\n",
    "g3_=140*G6_\n",
    "\n",
    "#Delta_ = Delta / pi^12\n",
    "Delta_ = g2_^3 - 27*g3_^2\n",
    "\n",
    "J = 1728*g2_^3/Delta_\n",
    "\n",
    "\n",
    "\n"
   ]
  },
  {
   "cell_type": "code",
   "execution_count": 8,
   "metadata": {},
   "outputs": [
    {
     "data": {
      "text/plain": [
       "4096*q - 98304*q^2 + 1032192*q^3 - 6029312*q^4 + 19783680*q^5 - 24772608*q^6 - 68583424*q^7 + 264212480*q^8 + 39645200384*q^9 + 1352422703104*q^10 + 11291631812608*q^11 + 55376650895360*q^12 + 189965569622016*q^13 + 538850453880832*q^14 + 1279903924224000*q^15 + 2053012193280000*q^16 + 2893352534016000*q^17 + 3521076264960000*q^18 + 3613233512448000*q^19 + 2931491340288000*q^20 + 1333906112512000*q^21"
      ]
     },
     "execution_count": 8,
     "metadata": {},
     "output_type": "execute_result"
    }
   ],
   "source": [
    "Delta_"
   ]
  },
  {
   "cell_type": "code",
   "execution_count": 9,
   "metadata": {
    "scrolled": true
   },
   "outputs": [
    {
     "data": {
      "text/plain": [
       "q^-1 + 744 + 196884*q + 21493760*q^2 + O(q^3)"
      ]
     },
     "execution_count": 9,
     "metadata": {},
     "output_type": "execute_result"
    }
   ],
   "source": [
    "J"
   ]
  },
  {
   "cell_type": "code",
   "execution_count": 10,
   "metadata": {},
   "outputs": [
    {
     "name": "stdout",
     "output_type": "stream",
     "text": [
      "Theta_n(q) = \n",
      "3606947894919168*q + 2396281139133153280*q^2 + 590713930441493053440*q^3\n"
     ]
    },
    {
     "data": {
      "text/plain": [
       "Symbolic Ring"
      ]
     },
     "execution_count": 10,
     "metadata": {},
     "output_type": "execute_result"
    }
   ],
   "source": [
    "# Change of variable p^n = q \n",
    "\n",
    "T_c=Theta.coefficients()\n",
    "T_e=Theta.exponents()\n",
    "\n",
    "Thetaq=sum([T_c[i]*q^(T_e[i]/n) for i in range(len(T_c))])\n",
    "print('Theta_n(q) = ')\n",
    "print(Thetaq)\n",
    "Thetaq.base_ring()"
   ]
  },
  {
   "cell_type": "code",
   "execution_count": 11,
   "metadata": {
    "scrolled": true
   },
   "outputs": [
    {
     "data": {
      "text/plain": [
       "214990848*q^-1 + 153149046784 + 42328258117632*q + 1869588881473536*q^2 + O(q^3)"
      ]
     },
     "execution_count": 11,
     "metadata": {},
     "output_type": "execute_result"
    }
   ],
   "source": [
    "P=Thetaq/(Delta_^(r/12)); P"
   ]
  },
  {
   "cell_type": "code",
   "execution_count": 15,
   "metadata": {},
   "outputs": [
    {
     "data": {
      "text/plain": [
       "q^-1 + (-J0 + 744) + 196884*q + 21493760*q^2 + O(q^3)"
      ]
     },
     "execution_count": 15,
     "metadata": {},
     "output_type": "execute_result"
    }
   ],
   "source": [
    "PJ = (J-J0); PJ"
   ]
  },
  {
   "cell_type": "code",
   "execution_count": 13,
   "metadata": {},
   "outputs": [],
   "source": [
    "#latex(PJ)"
   ]
  },
  {
   "cell_type": "code",
   "execution_count": 14,
   "metadata": {},
   "outputs": [
    {
     "data": {
      "text/plain": [
       "q^-1 + 4673738/6561 + 196884*q + 2113160176/243*q^2 + O(q^3)"
      ]
     },
     "execution_count": 14,
     "metadata": {},
     "output_type": "execute_result"
    }
   ],
   "source": [
    "P_a = P/P.coefficients()[0]; P_a"
   ]
  },
  {
   "cell_type": "code",
   "execution_count": 18,
   "metadata": {},
   "outputs": [
    {
     "data": {
      "text/plain": [
       "207646/6561"
      ]
     },
     "execution_count": 18,
     "metadata": {},
     "output_type": "execute_result"
    }
   ],
   "source": [
    "J0_ = (P_a.coefficients()[1] - PJ.coefficients()[1]).roots(multiplicities=False)[0]; J0_"
   ]
  },
  {
   "cell_type": "code",
   "execution_count": 21,
   "metadata": {},
   "outputs": [
    {
     "data": {
      "text/plain": [
       "Elliptic Curve defined by y^2 = x^3 - x^2 + 16*x - 180 over Rational Field"
      ]
     },
     "execution_count": 21,
     "metadata": {},
     "output_type": "execute_result"
    }
   ],
   "source": [
    "E=EllipticCurve_from_j(QQ(J0_));E"
   ]
  },
  {
   "cell_type": "code",
   "execution_count": null,
   "metadata": {},
   "outputs": [],
   "source": []
  }
 ],
 "metadata": {
  "kernelspec": {
   "display_name": "SageMath 8.7",
   "language": "",
   "name": "sagemath"
  },
  "language_info": {
   "codemirror_mode": {
    "name": "ipython",
    "version": 2
   },
   "file_extension": ".py",
   "mimetype": "text/x-python",
   "name": "python",
   "nbconvert_exporter": "python",
   "pygments_lexer": "ipython2",
   "version": "2.7.15"
  }
 },
 "nbformat": 4,
 "nbformat_minor": 2
}
