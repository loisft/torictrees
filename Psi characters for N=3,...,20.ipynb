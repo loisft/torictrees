{
 "cells": [
  {
   "cell_type": "code",
   "execution_count": null,
   "metadata": {},
   "outputs": [],
   "source": [
    "for l in range(2,8):\n",
    "    n=2**l\n",
    "    Gamma1E=Gamma1(n).to_even_subgroup()\n",
    "    L0 = list(Gamma1E.coset_reps()) # List of coset representatives of Gamma1[N] in SL2Z\n",
    "\n",
    "\n",
    "    r=len(L0) # Weight of Theta . If N>4 then 12 | r and Theta_N / Delta^r/12 is a modular function\n",
    "\n",
    "    Gamma1_gens = Gamma1(n).gens() # Generators of Gamma_1(n)\n",
    "    Gamma1E_gens = Gamma1E.gens()\n",
    "\n",
    "    Sigma=[]\n",
    "    for i in range(len(L0)):\n",
    "        j=0\n",
    "        while(not(Gamma1E_gens[len(Gamma1E_gens)-1]*L0[i]*matrix(2,2,[1,1,0,1])*~L0[j]) in Gamma1E):\n",
    "            j+=1\n",
    "        Sigma.append(j)\n",
    "      #  print(Gamma1E_gens[len(Gamma1E_gens)-1]*L0[i]*matrix(2,2,[1,1,0,1])*~L0[j])\n",
    "       # print(' ')\n",
    "   # print('Action of U : ' +str(Sigma))\n",
    "\n",
    "  #  print('\\n----------------\\n')\n",
    "\n",
    "    psi=0\n",
    "\n",
    "    for i in range(len(L0)):\n",
    "       # print('sigma('+str(i)+')='+str(Sigma[i]))\n",
    "       # print(L0[i])\n",
    "       # print(L0[Sigma[i]])\n",
    "       # print(L0[i]*matrix([[1, 1] ,[0 , 1]]))\n",
    "       # print('M_'+str(i)+' U M_s('+str(i)+')=')\n",
    "      #  print(L0[i]*matrix([[1, 1] ,[0 , 1]])*~L0[Sigma[i]])\n",
    "        bool1=True\n",
    "        for Test in Gamma1_gens:\n",
    "            if not(Test*L0[i]*matrix([[1, 1] ,[0 , 1]])*~L0[Sigma[i]] in Gamma1(n)):\n",
    "                bool1=False\n",
    "                #print(matrix(2,2,Test)*L0[i]*matrix([[1, 1] ,[0 , 1]])*~L0[Sigma[i]] in Gamma1(n))\n",
    "                #print(-matrix(2,2,Test)*L0[i]*matrix([[1, 1] ,[0 , 1]])*~L0[Sigma[i]] in Gamma1(n))\n",
    "                #print(' ')\n",
    "        #print(' ')\n",
    "       # print(bool1)\n",
    "        #print(' ')\n",
    "        psi = psi + 1 if bool1 else psi \n",
    "\n",
    "    psi=psi%2\n",
    "\n",
    "    result='Psi_'+str(n)+' - trivial' if psi==0 else 'Psi_'+str(n)+' - not trivial'\n",
    "    \n",
    "    degree_P = r/12 if n%2==1 else r/12 - (1/2)*(n/2)*prod([1 - 1/p for p in prime_divisors(n/2)])\n",
    "\n",
    "    theta_state = 'Theta - modular form of weight '+ str(r) if psi==0 else 'Theta^2 modular form of weight '+str(2*r)\n",
    "    print('\\n'+result+'\\n'+theta_state)\n",
    "    if n>4:\n",
    "        print('Degree of the polynomial in J : '+str(degree_P)+'\\n')"
   ]
  },
  {
   "cell_type": "code",
   "execution_count": null,
   "metadata": {},
   "outputs": [],
   "source": []
  }
 ],
 "metadata": {
  "kernelspec": {
   "display_name": "SageMath 8.7",
   "language": "",
   "name": "sagemath"
  },
  "language_info": {
   "codemirror_mode": {
    "name": "ipython",
    "version": 2
   },
   "file_extension": ".py",
   "mimetype": "text/x-python",
   "name": "python",
   "nbconvert_exporter": "python",
   "pygments_lexer": "ipython2",
   "version": "2.7.15"
  }
 },
 "nbformat": 4,
 "nbformat_minor": 2
}
